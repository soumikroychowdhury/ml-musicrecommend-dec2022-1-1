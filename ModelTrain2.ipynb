{
 "cells": [
  {
   "cell_type": "code",
   "execution_count": 8,
   "id": "a2cf0959",
   "metadata": {},
   "outputs": [],
   "source": [
    "import spotipy\n",
    "from spotipy.oauth2 import SpotifyClientCredentials\n",
    "from collections import defaultdict\n",
    "sp=spotipy.Spotify(auth_manager=SpotifyClientCredentials(client_id='',client_secret=''))\n",
    "def find_song(name,year):\n",
    "    song_data=defaultdict()\n",
    "    results=sp.search(q='track:{} year:{}'.format(name,year),limit=1)\n",
    "    if results['tracks']['items']==[]:\n",
    "        return None\n",
    "    results=results['tracks']['items'][0]\n",
    "    track_id=results['id']\n",
    "    audio_features=sp.audio_features(track_id)[0]\n",
    "    song_data['name']=[name]\n",
    "    song_data['year']=[year]\n",
    "    song_data['explicit']=[int(results['explicit'])]\n",
    "    song_data['duration_ms']=[results['duration_ms']]\n",
    "    song_data['popularity']=[results['popularity']]\n",
    "    for key,value in audio_features.items():\n",
    "        song_data[key]=value\n",
    "    song_data_df=pd.DataFrame(song_data)\n",
    "    song_cluster_label=song_cluster_pipeline.predict(song_data_df[number_cols])\n",
    "    song_data_df['cluster_label']=song_cluster\n",
    "    return song_data_df"
   ]
  },
  {
   "cell_type": "code",
   "execution_count": 7,
   "id": "80cf6bfc",
   "metadata": {},
   "outputs": [],
   "source": [
    "from sklearn.metrics import euclidean_distances\n",
    "from scipy.spatial.distance import cdist\n",
    "import difflib\n",
    "def get_song_data(song):\n",
    "    try:\n",
    "        song_data=data[(data['name']==song['name'])&(data['year']==song['year'])].iloc[0]\n",
    "        return song_data\n",
    "    except IndexError:\n",
    "        return find_song(song['name'],song['year'])\n",
    "def get_mean_vector(song_list):\n",
    "    song_vectors=[]\n",
    "    for song in song_list:\n",
    "        song_data=get_song_data(song)\n",
    "        if song_data is None:\n",
    "            continue\n",
    "        song_vector=song_data[number_cols].values\n",
    "        song_vectors.append(song_vector)\n",
    "        song_matrix=np.array(list(song_vectors))\n",
    "        return np.mean(song_matrix,axis=0)\n",
    "def flatten_dict_list(dict_list):\n",
    "    flattened_dict=defaultdict()\n",
    "    for key in dict_list[0].keys():\n",
    "        flattened_dict[key]=[]\n",
    "    for dictionary in dict_list:\n",
    "        for key,value in dictionary.items():\n",
    "            flattened_dict[key].append(value)\n",
    "    return flattened_dict"
   ]
  },
  {
   "cell_type": "code",
   "execution_count": 9,
   "id": "2d5b6be9",
   "metadata": {},
   "outputs": [],
   "source": [
    "def recommender(song_list):\n",
    "    rec_song_list_column=['name','year','artists']\n",
    "    song_dict=flatten_dict_list(song_list)\n",
    "    song_center=get_mean_vector(song_list)\n",
    "    scaler=song_cluster_pipeline.steps[0][1]\n",
    "    scaled_data=scaler.transform(data[number_cols])\n",
    "    scaled_song_center=scaler.transform(song_center.reshape(1,-1))\n",
    "    distance=cdist(scaled_song_center,scaled_data,'cosine')\n",
    "    index=list(np.argsort(distance)[:,:10][0])\n",
    "    rec_songs=data.ilot[index]\n",
    "    rec_songs=rec_songs[-rec_songs['name'].isin(song_dict['name'])]\n",
    "    return rec_songs[rec_song_list_column].to_dict(orient='records')"
   ]
  },
  {
   "cell_type": "code",
   "execution_count": 12,
   "id": "e2a16676",
   "metadata": {},
   "outputs": [],
   "source": [
    "#   recommender([{'name':'Animals','year':2013}])"
   ]
  },
  {
   "cell_type": "code",
   "execution_count": 14,
   "id": "50bb0f28",
   "metadata": {},
   "outputs": [],
   "source": [
    "# recommender([{'name':'Story of My Life','year':2013}])"
   ]
  }
 ],
 "metadata": {
  "kernelspec": {
   "display_name": "Python 3 (ipykernel)",
   "language": "python",
   "name": "python3"
  },
  "language_info": {
   "codemirror_mode": {
    "name": "ipython",
    "version": 3
   },
   "file_extension": ".py",
   "mimetype": "text/x-python",
   "name": "python",
   "nbconvert_exporter": "python",
   "pygments_lexer": "ipython3",
   "version": "3.9.0"
  }
 },
 "nbformat": 4,
 "nbformat_minor": 5
}
